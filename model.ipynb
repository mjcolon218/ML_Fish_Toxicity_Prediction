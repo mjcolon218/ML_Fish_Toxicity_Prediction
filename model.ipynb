{
 "cells": [
  {
   "cell_type": "code",
   "execution_count": 11,
   "metadata": {},
   "outputs": [],
   "source": [
    "from sklearn.linear_model import LinearRegression, Ridge\n",
    "from sklearn.ensemble import RandomForestRegressor\n",
    "from sklearn.metrics import mean_squared_error, r2_score\n",
    "import numpy as np\n",
    "from sklearn.model_selection import train_test_split\n",
    "from sklearn.preprocessing import StandardScaler\n",
    "import pandas as pd\n",
    "import matplotlib.pyplot as plt\n",
    "import seaborn as sns\n",
    "\n",
    "data = pd.read_csv('data/fish_transformed.csv')\n",
    "# Separating features and target\n",
    "X = data.drop('Fish Toxicity', axis=1)\n",
    "y = data['Fish Toxicity']\n",
    "\n",
    "# Standardizing the features\n",
    "scaler = StandardScaler()\n",
    "X_scaled = scaler.fit_transform(X)\n",
    "\n",
    "# Splitting the dataset into the Training set and Test set\n",
    "X_train, X_test, y_train, y_test = train_test_split(X_scaled, y, test_size=0.2, random_state=42)\n"
   ]
  },
  {
   "cell_type": "code",
   "execution_count": 3,
   "metadata": {},
   "outputs": [
    {
     "name": "stdout",
     "output_type": "stream",
     "text": [
      "Linear Regression: MSE = 1.0463821653353844 , RMSE = 1.0229282307842444 , R^2 = 0.5675170258323361\n",
      "Ridge Regression: MSE = 1.0463854210971713 , RMSE = 1.0229298221760725 , R^2 = 0.56751568018484\n",
      "Random Forest Regression: MSE = 1.0331873061963945 , RMSE = 1.0164582166505391 , R^2 = 0.572970627884436\n"
     ]
    }
   ],
   "source": [
    "\n",
    "# Initialize the models\n",
    "linear_model = LinearRegression()\n",
    "ridge_model = Ridge(alpha=1.0)\n",
    "random_forest_model = RandomForestRegressor(n_estimators=100, random_state=42)\n",
    "\n",
    "# Function to train and evaluate a model\n",
    "def train_evaluate_model(model, X_train, y_train, X_test, y_test):\n",
    "    # Training the model\n",
    "    model.fit(X_train, y_train)\n",
    "\n",
    "    # Predicting the Test set results\n",
    "    y_pred = model.predict(X_test)\n",
    "\n",
    "    # Evaluating the model\n",
    "    mse = mean_squared_error(y_test, y_pred)\n",
    "    rmse = np.sqrt(mse)\n",
    "    r2 = r2_score(y_test, y_pred)\n",
    "\n",
    "    return mse, rmse, r2\n",
    "\n",
    "# Training and evaluating Linear Regression\n",
    "linear_mse, linear_rmse, linear_r2 = train_evaluate_model(linear_model, X_train, y_train, X_test, y_test)\n",
    "\n",
    "# Training and evaluating Ridge Regression\n",
    "ridge_mse, ridge_rmse, ridge_r2 = train_evaluate_model(ridge_model, X_train, y_train, X_test, y_test)\n",
    "\n",
    "# Training and evaluating Random Forest Regression\n",
    "rf_mse, rf_rmse, rf_r2 = train_evaluate_model(random_forest_model, X_train, y_train, X_test, y_test)\n",
    "\n",
    "# Print the results\n",
    "print(\"Linear Regression: MSE =\", linear_mse, \", RMSE =\", linear_rmse, \", R^2 =\", linear_r2)\n",
    "print(\"Ridge Regression: MSE =\", ridge_mse, \", RMSE =\", ridge_rmse, \", R^2 =\", ridge_r2)\n",
    "print(\"Random Forest Regression: MSE =\", rf_mse, \", RMSE =\", rf_rmse, \", R^2 =\", rf_r2)\n"
   ]
  },
  {
   "cell_type": "markdown",
   "metadata": {},
   "source": [
    "## Interpretation:\n",
    "### The Random Forest Regression model shows the best performance among the three, with the lowest MSE and RMSE, and the highest R-squared value. This indicates it's better at capturing the complexity and non-linear relationships in the data.\n",
    "### Both the Linear Regression and Ridge Regression models have similar performance metrics, with relatively higher MSE and RMSE, and lower R-squared values compared to the Random Forest model. This could suggest that the relationship between the predictors and the target variable has non-linear aspects that these linear models are not fully capturing.\n",
    "### The R-squared values for all models are moderate, indicating that while the models have some predictive power, there's still room for improvement. Feature engineering, model tuning, or trying different modeling approaches might help to increase the predictive performance."
   ]
  },
  {
   "cell_type": "code",
   "execution_count": 4,
   "metadata": {},
   "outputs": [],
   "source": [
    "coefficients = linear_model.coef_\n",
    "feature_names = X.columns\n",
    "coeff_df = pd.DataFrame({'Feature': feature_names, 'Coefficient': coefficients})\n",
    "coeff_df = coeff_df.reindex(coeff_df.Coefficient.abs().sort_values(ascending=False).index)\n"
   ]
  },
  {
   "cell_type": "code",
   "execution_count": 6,
   "metadata": {},
   "outputs": [
    {
     "data": {
      "text/html": [
       "<div>\n",
       "<style scoped>\n",
       "    .dataframe tbody tr th:only-of-type {\n",
       "        vertical-align: middle;\n",
       "    }\n",
       "\n",
       "    .dataframe tbody tr th {\n",
       "        vertical-align: top;\n",
       "    }\n",
       "\n",
       "    .dataframe thead th {\n",
       "        text-align: right;\n",
       "    }\n",
       "</style>\n",
       "<table border=\"1\" class=\"dataframe\">\n",
       "  <thead>\n",
       "    <tr style=\"text-align: right;\">\n",
       "      <th></th>\n",
       "      <th>Feature</th>\n",
       "      <th>Coefficient</th>\n",
       "    </tr>\n",
       "  </thead>\n",
       "  <tbody>\n",
       "    <tr>\n",
       "      <th>1</th>\n",
       "      <td>SM1_Dz(Z)</td>\n",
       "      <td>0.559344</td>\n",
       "    </tr>\n",
       "    <tr>\n",
       "      <th>5</th>\n",
       "      <td>MLOGP</td>\n",
       "      <td>0.535917</td>\n",
       "    </tr>\n",
       "    <tr>\n",
       "      <th>0</th>\n",
       "      <td>CIC0</td>\n",
       "      <td>0.332707</td>\n",
       "    </tr>\n",
       "    <tr>\n",
       "      <th>2</th>\n",
       "      <td>GATS1i</td>\n",
       "      <td>-0.296895</td>\n",
       "    </tr>\n",
       "    <tr>\n",
       "      <th>3</th>\n",
       "      <td>NdssC</td>\n",
       "      <td>0.240849</td>\n",
       "    </tr>\n",
       "    <tr>\n",
       "      <th>4</th>\n",
       "      <td>NdsCH</td>\n",
       "      <td>0.041401</td>\n",
       "    </tr>\n",
       "  </tbody>\n",
       "</table>\n",
       "</div>"
      ],
      "text/plain": [
       "     Feature  Coefficient\n",
       "1  SM1_Dz(Z)     0.559344\n",
       "5      MLOGP     0.535917\n",
       "0       CIC0     0.332707\n",
       "2     GATS1i    -0.296895\n",
       "3      NdssC     0.240849\n",
       "4      NdsCH     0.041401"
      ]
     },
     "execution_count": 6,
     "metadata": {},
     "output_type": "execute_result"
    }
   ],
   "source": [
    "coeff_df"
   ]
  },
  {
   "cell_type": "code",
   "execution_count": 12,
   "metadata": {},
   "outputs": [
    {
     "data": {
      "image/png": "[encoded data removed]",
      "text/plain": [
       "<Figure size 1000x600 with 1 Axes>"
      ]
     },
     "metadata": {},
     "output_type": "display_data"
    }
   ],
   "source": [
    "\n",
    "plt.figure(figsize=(10, 6))\n",
    "sns.barplot(x='Coefficient', y='Feature', data=coeff_df)\n",
    "plt.title('Feature Coefficients in Linear Regression Model')\n",
    "plt.xlabel('Coefficient Value')\n",
    "plt.ylabel('Feature')\n",
    "plt.show()"
   ]
  },
  {
   "cell_type": "code",
   "execution_count": 13,
   "metadata": {},
   "outputs": [
    {
     "data": {
      "image/png": "[encoded data removed]",
      "text/plain": [
       "<Figure size 1500x1000 with 1 Axes>"
      ]
     },
     "metadata": {},
     "output_type": "display_data"
    }
   ],
   "source": [
    "import matplotlib.pyplot as plt\n",
    "import seaborn as sns\n",
    "\n",
    "# Function to create a DataFrame of feature importance or coefficients\n",
    "def create_feature_df(model, feature_names, model_name):\n",
    "    if model_name == 'Random Forest':\n",
    "        importance = model.feature_importances_\n",
    "    else: # Linear or Ridge Regression\n",
    "        importance = model.coef_\n",
    "\n",
    "    feature_df = pd.DataFrame({'Feature': feature_names, 'Importance': importance})\n",
    "    feature_df = feature_df.reindex(feature_df.Importance.abs().sort_values(ascending=False).index)\n",
    "    feature_df['Model'] = model_name\n",
    "    return feature_df\n",
    "\n",
    "# Creating dataframes\n",
    "linear_df = create_feature_df(linear_model, feature_names, 'Linear Regression')\n",
    "ridge_df = create_feature_df(ridge_model, feature_names, 'Ridge Regression')\n",
    "rf_df = create_feature_df(random_forest_model, feature_names, 'Random Forest')\n",
    "\n",
    "# Concatenating dataframes\n",
    "all_models_df = pd.concat([linear_df, ridge_df, rf_df])\n",
    "\n",
    "# Plotting\n",
    "plt.figure(figsize=(15, 10))\n",
    "sns.barplot(x='Importance', y='Feature', hue='Model', data=all_models_df)\n",
    "plt.title('Feature Importance/Coefficients Across Models')\n",
    "plt.xlabel('Importance / Coefficient Value')\n",
    "plt.ylabel('Feature')\n",
    "plt.show()\n"
   ]
  },
  {
   "cell_type": "code",
   "execution_count": 15,
   "metadata": {},
   "outputs": [
    {
     "data": {
      "text/html": [
       "<div>\n",
       "<style scoped>\n",
       "    .dataframe tbody tr th:only-of-type {\n",
       "        vertical-align: middle;\n",
       "    }\n",
       "\n",
       "    .dataframe tbody tr th {\n",
       "        vertical-align: top;\n",
       "    }\n",
       "\n",
       "    .dataframe thead th {\n",
       "        text-align: right;\n",
       "    }\n",
       "</style>\n",
       "<table border=\"1\" class=\"dataframe\">\n",
       "  <thead>\n",
       "    <tr style=\"text-align: right;\">\n",
       "      <th></th>\n",
       "      <th>Feature</th>\n",
       "      <th>Importance</th>\n",
       "      <th>Model</th>\n",
       "    </tr>\n",
       "  </thead>\n",
       "  <tbody>\n",
       "    <tr>\n",
       "      <th>1</th>\n",
       "      <td>SM1_Dz(Z)</td>\n",
       "      <td>0.558348</td>\n",
       "      <td>Ridge Regression</td>\n",
       "    </tr>\n",
       "    <tr>\n",
       "      <th>5</th>\n",
       "      <td>MLOGP</td>\n",
       "      <td>0.535861</td>\n",
       "      <td>Ridge Regression</td>\n",
       "    </tr>\n",
       "    <tr>\n",
       "      <th>0</th>\n",
       "      <td>CIC0</td>\n",
       "      <td>0.331916</td>\n",
       "      <td>Ridge Regression</td>\n",
       "    </tr>\n",
       "    <tr>\n",
       "      <th>2</th>\n",
       "      <td>GATS1i</td>\n",
       "      <td>-0.296571</td>\n",
       "      <td>Ridge Regression</td>\n",
       "    </tr>\n",
       "    <tr>\n",
       "      <th>3</th>\n",
       "      <td>NdssC</td>\n",
       "      <td>0.240375</td>\n",
       "      <td>Ridge Regression</td>\n",
       "    </tr>\n",
       "    <tr>\n",
       "      <th>4</th>\n",
       "      <td>NdsCH</td>\n",
       "      <td>0.041720</td>\n",
       "      <td>Ridge Regression</td>\n",
       "    </tr>\n",
       "  </tbody>\n",
       "</table>\n",
       "</div>"
      ],
      "text/plain": [
       "     Feature  Importance             Model\n",
       "1  SM1_Dz(Z)    0.558348  Ridge Regression\n",
       "5      MLOGP    0.535861  Ridge Regression\n",
       "0       CIC0    0.331916  Ridge Regression\n",
       "2     GATS1i   -0.296571  Ridge Regression\n",
       "3      NdssC    0.240375  Ridge Regression\n",
       "4      NdsCH    0.041720  Ridge Regression"
      ]
     },
     "execution_count": 15,
     "metadata": {},
     "output_type": "execute_result"
    }
   ],
   "source": [
    "ridge_df"
   ]
  },
  {
   "cell_type": "code",
   "execution_count": 16,
   "metadata": {},
   "outputs": [
    {
     "data": {
      "text/html": [
       "<div>\n",
       "<style scoped>\n",
       "    .dataframe tbody tr th:only-of-type {\n",
       "        vertical-align: middle;\n",
       "    }\n",
       "\n",
       "    .dataframe tbody tr th {\n",
       "        vertical-align: top;\n",
       "    }\n",
       "\n",
       "    .dataframe thead th {\n",
       "        text-align: right;\n",
       "    }\n",
       "</style>\n",
       "<table border=\"1\" class=\"dataframe\">\n",
       "  <thead>\n",
       "    <tr style=\"text-align: right;\">\n",
       "      <th></th>\n",
       "      <th>Feature</th>\n",
       "      <th>Importance</th>\n",
       "      <th>Model</th>\n",
       "    </tr>\n",
       "  </thead>\n",
       "  <tbody>\n",
       "    <tr>\n",
       "      <th>5</th>\n",
       "      <td>MLOGP</td>\n",
       "      <td>0.546298</td>\n",
       "      <td>Random Forest</td>\n",
       "    </tr>\n",
       "    <tr>\n",
       "      <th>1</th>\n",
       "      <td>SM1_Dz(Z)</td>\n",
       "      <td>0.172628</td>\n",
       "      <td>Random Forest</td>\n",
       "    </tr>\n",
       "    <tr>\n",
       "      <th>2</th>\n",
       "      <td>GATS1i</td>\n",
       "      <td>0.110008</td>\n",
       "      <td>Random Forest</td>\n",
       "    </tr>\n",
       "    <tr>\n",
       "      <th>0</th>\n",
       "      <td>CIC0</td>\n",
       "      <td>0.099497</td>\n",
       "      <td>Random Forest</td>\n",
       "    </tr>\n",
       "    <tr>\n",
       "      <th>3</th>\n",
       "      <td>NdssC</td>\n",
       "      <td>0.041641</td>\n",
       "      <td>Random Forest</td>\n",
       "    </tr>\n",
       "    <tr>\n",
       "      <th>4</th>\n",
       "      <td>NdsCH</td>\n",
       "      <td>0.029926</td>\n",
       "      <td>Random Forest</td>\n",
       "    </tr>\n",
       "  </tbody>\n",
       "</table>\n",
       "</div>"
      ],
      "text/plain": [
       "     Feature  Importance          Model\n",
       "5      MLOGP    0.546298  Random Forest\n",
       "1  SM1_Dz(Z)    0.172628  Random Forest\n",
       "2     GATS1i    0.110008  Random Forest\n",
       "0       CIC0    0.099497  Random Forest\n",
       "3      NdssC    0.041641  Random Forest\n",
       "4      NdsCH    0.029926  Random Forest"
      ]
     },
     "execution_count": 16,
     "metadata": {},
     "output_type": "execute_result"
    }
   ],
   "source": [
    "rf_df"
   ]
  },
  {
   "cell_type": "code",
   "execution_count": 14,
   "metadata": {},
   "outputs": [
    {
     "data": {
      "text/html": [
       "<div>\n",
       "<style scoped>\n",
       "    .dataframe tbody tr th:only-of-type {\n",
       "        vertical-align: middle;\n",
       "    }\n",
       "\n",
       "    .dataframe tbody tr th {\n",
       "        vertical-align: top;\n",
       "    }\n",
       "\n",
       "    .dataframe thead th {\n",
       "        text-align: right;\n",
       "    }\n",
       "</style>\n",
       "<table border=\"1\" class=\"dataframe\">\n",
       "  <thead>\n",
       "    <tr style=\"text-align: right;\">\n",
       "      <th></th>\n",
       "      <th>Feature</th>\n",
       "      <th>Importance</th>\n",
       "      <th>Model</th>\n",
       "    </tr>\n",
       "  </thead>\n",
       "  <tbody>\n",
       "    <tr>\n",
       "      <th>1</th>\n",
       "      <td>SM1_Dz(Z)</td>\n",
       "      <td>0.559344</td>\n",
       "      <td>Linear Regression</td>\n",
       "    </tr>\n",
       "    <tr>\n",
       "      <th>5</th>\n",
       "      <td>MLOGP</td>\n",
       "      <td>0.535917</td>\n",
       "      <td>Linear Regression</td>\n",
       "    </tr>\n",
       "    <tr>\n",
       "      <th>0</th>\n",
       "      <td>CIC0</td>\n",
       "      <td>0.332707</td>\n",
       "      <td>Linear Regression</td>\n",
       "    </tr>\n",
       "    <tr>\n",
       "      <th>2</th>\n",
       "      <td>GATS1i</td>\n",
       "      <td>-0.296895</td>\n",
       "      <td>Linear Regression</td>\n",
       "    </tr>\n",
       "    <tr>\n",
       "      <th>3</th>\n",
       "      <td>NdssC</td>\n",
       "      <td>0.240849</td>\n",
       "      <td>Linear Regression</td>\n",
       "    </tr>\n",
       "    <tr>\n",
       "      <th>4</th>\n",
       "      <td>NdsCH</td>\n",
       "      <td>0.041401</td>\n",
       "      <td>Linear Regression</td>\n",
       "    </tr>\n",
       "  </tbody>\n",
       "</table>\n",
       "</div>"
      ],
      "text/plain": [
       "     Feature  Importance              Model\n",
       "1  SM1_Dz(Z)    0.559344  Linear Regression\n",
       "5      MLOGP    0.535917  Linear Regression\n",
       "0       CIC0    0.332707  Linear Regression\n",
       "2     GATS1i   -0.296895  Linear Regression\n",
       "3      NdssC    0.240849  Linear Regression\n",
       "4      NdsCH    0.041401  Linear Regression"
      ]
     },
     "execution_count": 14,
     "metadata": {},
     "output_type": "execute_result"
    }
   ],
   "source": [
    "linear_df"
   ]
  }
 ],
 "metadata": {
  "kernelspec": {
   "display_name": "base",
   "language": "python",
   "name": "python3"
  },
  "language_info": {
   "codemirror_mode": {
    "name": "ipython",
    "version": 3
   },
   "file_extension": ".py",
   "mimetype": "text/x-python",
   "name": "python",
   "nbconvert_exporter": "python",
   "pygments_lexer": "ipython3",
   "version": "3.9.18"
  }
 },
 "nbformat": 4,
 "nbformat_minor": 2
}
